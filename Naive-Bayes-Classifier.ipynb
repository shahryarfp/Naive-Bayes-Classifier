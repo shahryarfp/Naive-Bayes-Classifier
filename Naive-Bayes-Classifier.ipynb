{
  "cells": [
    {
      "cell_type": "code",
      "source": [
        "from google.colab import drive\n",
        "drive.mount('/content/drive')"
      ],
      "metadata": {
        "colab": {
          "base_uri": "https://localhost:8080/"
        },
        "id": "af1P22AOEb0Z",
        "outputId": "94ed2ee4-974f-491a-ffda-01feafdad8eb"
      },
      "id": "af1P22AOEb0Z",
      "execution_count": 1,
      "outputs": [
        {
          "output_type": "stream",
          "name": "stdout",
          "text": [
            "Mounted at /content/drive\n"
          ]
        }
      ]
    },
    {
      "cell_type": "code",
      "execution_count": 2,
      "id": "42a9e4ca",
      "metadata": {
        "id": "42a9e4ca"
      },
      "outputs": [],
      "source": [
        "import pandas as pd\n",
        "import timeit\n",
        "import matplotlib.pyplot as plt\n",
        "import numpy as np\n",
        "import copy\n",
        "import math\n",
        "\n",
        "train_data = pd.read_csv('/content/drive/MyDrive/Colab Dataset/AI-CA3/train.csv')\n",
        "test_data = pd.read_csv('/content/drive/MyDrive/Colab Dataset/AI-CA3/test.csv')"
      ]
    },
    {
      "cell_type": "code",
      "execution_count": 3,
      "id": "e3fdac74",
      "metadata": {
        "colab": {
          "base_uri": "https://localhost:8080/",
          "height": 369
        },
        "id": "e3fdac74",
        "outputId": "53276294-9a52-4137-bc96-bbb2679617f5"
      },
      "outputs": [
        {
          "output_type": "stream",
          "name": "stdout",
          "text": [
            "<class 'pandas.core.frame.DataFrame'>\n",
            "RangeIndex: 5200 entries, 0 to 5199\n",
            "Data columns (total 2 columns):\n",
            " #   Column   Non-Null Count  Dtype \n",
            "---  ------   --------------  ----- \n",
            " 0   content  5199 non-null   object\n",
            " 1   label    5200 non-null   object\n",
            "dtypes: object(2)\n",
            "memory usage: 81.4+ KB\n"
          ]
        },
        {
          "output_type": "execute_result",
          "data": {
            "text/plain": [
              "                                             content           label\n",
              "0  فیلم‌های در حال اکران؛ موزیکال شاد خاله قورباغ...     هنر و سینما\n",
              "1  پنج فیلمسازی که کوئنتین تارانتینو را عاشق سینم...     هنر و سینما\n",
              "2  جانی آیو از اپل رفت جانی آیو دیگر نیازی به معر...  علم و تکنولوژی\n",
              "3  احتمال عدم پشتیبانی iOS ۱۳ از آیفون ۵ اس، SE و...  علم و تکنولوژی\n",
              "4  دزدان مغازه نماینده ژاپن در اسکار ۲۰۱۹ شد فیلم...     هنر و سینما"
            ],
            "text/html": [
              "\n",
              "  <div id=\"df-e1c8b9f3-9315-444f-b25f-45611a071358\">\n",
              "    <div class=\"colab-df-container\">\n",
              "      <div>\n",
              "<style scoped>\n",
              "    .dataframe tbody tr th:only-of-type {\n",
              "        vertical-align: middle;\n",
              "    }\n",
              "\n",
              "    .dataframe tbody tr th {\n",
              "        vertical-align: top;\n",
              "    }\n",
              "\n",
              "    .dataframe thead th {\n",
              "        text-align: right;\n",
              "    }\n",
              "</style>\n",
              "<table border=\"1\" class=\"dataframe\">\n",
              "  <thead>\n",
              "    <tr style=\"text-align: right;\">\n",
              "      <th></th>\n",
              "      <th>content</th>\n",
              "      <th>label</th>\n",
              "    </tr>\n",
              "  </thead>\n",
              "  <tbody>\n",
              "    <tr>\n",
              "      <th>0</th>\n",
              "      <td>فیلم‌های در حال اکران؛ موزیکال شاد خاله قورباغ...</td>\n",
              "      <td>هنر و سینما</td>\n",
              "    </tr>\n",
              "    <tr>\n",
              "      <th>1</th>\n",
              "      <td>پنج فیلمسازی که کوئنتین تارانتینو را عاشق سینم...</td>\n",
              "      <td>هنر و سینما</td>\n",
              "    </tr>\n",
              "    <tr>\n",
              "      <th>2</th>\n",
              "      <td>جانی آیو از اپل رفت جانی آیو دیگر نیازی به معر...</td>\n",
              "      <td>علم و تکنولوژی</td>\n",
              "    </tr>\n",
              "    <tr>\n",
              "      <th>3</th>\n",
              "      <td>احتمال عدم پشتیبانی iOS ۱۳ از آیفون ۵ اس، SE و...</td>\n",
              "      <td>علم و تکنولوژی</td>\n",
              "    </tr>\n",
              "    <tr>\n",
              "      <th>4</th>\n",
              "      <td>دزدان مغازه نماینده ژاپن در اسکار ۲۰۱۹ شد فیلم...</td>\n",
              "      <td>هنر و سینما</td>\n",
              "    </tr>\n",
              "  </tbody>\n",
              "</table>\n",
              "</div>\n",
              "      <button class=\"colab-df-convert\" onclick=\"convertToInteractive('df-e1c8b9f3-9315-444f-b25f-45611a071358')\"\n",
              "              title=\"Convert this dataframe to an interactive table.\"\n",
              "              style=\"display:none;\">\n",
              "        \n",
              "  <svg xmlns=\"http://www.w3.org/2000/svg\" height=\"24px\"viewBox=\"0 0 24 24\"\n",
              "       width=\"24px\">\n",
              "    <path d=\"M0 0h24v24H0V0z\" fill=\"none\"/>\n",
              "    <path d=\"M18.56 5.44l.94 2.06.94-2.06 2.06-.94-2.06-.94-.94-2.06-.94 2.06-2.06.94zm-11 1L8.5 8.5l.94-2.06 2.06-.94-2.06-.94L8.5 2.5l-.94 2.06-2.06.94zm10 10l.94 2.06.94-2.06 2.06-.94-2.06-.94-.94-2.06-.94 2.06-2.06.94z\"/><path d=\"M17.41 7.96l-1.37-1.37c-.4-.4-.92-.59-1.43-.59-.52 0-1.04.2-1.43.59L10.3 9.45l-7.72 7.72c-.78.78-.78 2.05 0 2.83L4 21.41c.39.39.9.59 1.41.59.51 0 1.02-.2 1.41-.59l7.78-7.78 2.81-2.81c.8-.78.8-2.07 0-2.86zM5.41 20L4 18.59l7.72-7.72 1.47 1.35L5.41 20z\"/>\n",
              "  </svg>\n",
              "      </button>\n",
              "      \n",
              "  <style>\n",
              "    .colab-df-container {\n",
              "      display:flex;\n",
              "      flex-wrap:wrap;\n",
              "      gap: 12px;\n",
              "    }\n",
              "\n",
              "    .colab-df-convert {\n",
              "      background-color: #E8F0FE;\n",
              "      border: none;\n",
              "      border-radius: 50%;\n",
              "      cursor: pointer;\n",
              "      display: none;\n",
              "      fill: #1967D2;\n",
              "      height: 32px;\n",
              "      padding: 0 0 0 0;\n",
              "      width: 32px;\n",
              "    }\n",
              "\n",
              "    .colab-df-convert:hover {\n",
              "      background-color: #E2EBFA;\n",
              "      box-shadow: 0px 1px 2px rgba(60, 64, 67, 0.3), 0px 1px 3px 1px rgba(60, 64, 67, 0.15);\n",
              "      fill: #174EA6;\n",
              "    }\n",
              "\n",
              "    [theme=dark] .colab-df-convert {\n",
              "      background-color: #3B4455;\n",
              "      fill: #D2E3FC;\n",
              "    }\n",
              "\n",
              "    [theme=dark] .colab-df-convert:hover {\n",
              "      background-color: #434B5C;\n",
              "      box-shadow: 0px 1px 3px 1px rgba(0, 0, 0, 0.15);\n",
              "      filter: drop-shadow(0px 1px 2px rgba(0, 0, 0, 0.3));\n",
              "      fill: #FFFFFF;\n",
              "    }\n",
              "  </style>\n",
              "\n",
              "      <script>\n",
              "        const buttonEl =\n",
              "          document.querySelector('#df-e1c8b9f3-9315-444f-b25f-45611a071358 button.colab-df-convert');\n",
              "        buttonEl.style.display =\n",
              "          google.colab.kernel.accessAllowed ? 'block' : 'none';\n",
              "\n",
              "        async function convertToInteractive(key) {\n",
              "          const element = document.querySelector('#df-e1c8b9f3-9315-444f-b25f-45611a071358');\n",
              "          const dataTable =\n",
              "            await google.colab.kernel.invokeFunction('convertToInteractive',\n",
              "                                                     [key], {});\n",
              "          if (!dataTable) return;\n",
              "\n",
              "          const docLinkHtml = 'Like what you see? Visit the ' +\n",
              "            '<a target=\"_blank\" href=https://colab.research.google.com/notebooks/data_table.ipynb>data table notebook</a>'\n",
              "            + ' to learn more about interactive tables.';\n",
              "          element.innerHTML = '';\n",
              "          dataTable['output_type'] = 'display_data';\n",
              "          await google.colab.output.renderOutput(dataTable, element);\n",
              "          const docLink = document.createElement('div');\n",
              "          docLink.innerHTML = docLinkHtml;\n",
              "          element.appendChild(docLink);\n",
              "        }\n",
              "      </script>\n",
              "    </div>\n",
              "  </div>\n",
              "  "
            ]
          },
          "metadata": {},
          "execution_count": 3
        }
      ],
      "source": [
        "train_data.info()\n",
        "train_data.head(5)"
      ]
    },
    {
      "cell_type": "markdown",
      "source": [
        "# Phase 1: Using Parsivar for Preprocessing"
      ],
      "metadata": {
        "id": "WDPnw-JQ3jIo"
      },
      "id": "WDPnw-JQ3jIo"
    },
    {
      "cell_type": "code",
      "execution_count": 4,
      "id": "154c83cf",
      "metadata": {
        "colab": {
          "base_uri": "https://localhost:8080/"
        },
        "id": "154c83cf",
        "outputId": "be339110-fecd-49a8-cdae-bc5332961fea"
      },
      "outputs": [
        {
          "output_type": "stream",
          "name": "stdout",
          "text": [
            "Collecting parsivar\n",
            "  Downloading parsivar-0.2.3.tar.gz (36.2 MB)\n",
            "\u001b[K     |████████████████████████████████| 36.2 MB 330 kB/s \n",
            "\u001b[?25hCollecting nltk==3.4.5\n",
            "  Downloading nltk-3.4.5.zip (1.5 MB)\n",
            "\u001b[K     |████████████████████████████████| 1.5 MB 35.3 MB/s \n",
            "\u001b[?25hRequirement already satisfied: six in /usr/local/lib/python3.7/dist-packages (from nltk==3.4.5->parsivar) (1.15.0)\n",
            "Building wheels for collected packages: parsivar, nltk\n",
            "  Building wheel for parsivar (setup.py) ... \u001b[?25l\u001b[?25hdone\n",
            "  Created wheel for parsivar: filename=parsivar-0.2.3-py3-none-any.whl size=36492972 sha256=c986aa2689873677b96a6feb5092f558290c40678b352d74cf42e27f2c968287\n",
            "  Stored in directory: /root/.cache/pip/wheels/ae/67/7a/49cbf08f64d3f76a26eceaf0e481a40e233f05d4356875cbed\n",
            "  Building wheel for nltk (setup.py) ... \u001b[?25l\u001b[?25hdone\n",
            "  Created wheel for nltk: filename=nltk-3.4.5-py3-none-any.whl size=1449920 sha256=b579d42e9ab664609487285ca19c6f26ef273c60098e6bc877cdbcf6c2211d52\n",
            "  Stored in directory: /root/.cache/pip/wheels/48/8b/7f/473521e0c731c6566d631b281f323842bbda9bd819eb9a3ead\n",
            "Successfully built parsivar nltk\n",
            "Installing collected packages: nltk, parsivar\n",
            "  Attempting uninstall: nltk\n",
            "    Found existing installation: nltk 3.2.5\n",
            "    Uninstalling nltk-3.2.5:\n",
            "      Successfully uninstalled nltk-3.2.5\n",
            "Successfully installed nltk-3.4.5 parsivar-0.2.3\n"
          ]
        }
      ],
      "source": [
        "pip install parsivar"
      ]
    },
    {
      "cell_type": "code",
      "source": [
        "file = open('/content/drive/MyDrive/Colab Dataset/AI-CA3/stop words.txt', 'r')\n",
        "stop_words = file.read().splitlines()\n",
        "file_ = open('/content/drive/MyDrive/Colab Dataset/AI-CA3/some words to delete.txt', 'r')\n",
        "some_words_to_delete = file_.read().splitlines()\n",
        "\n",
        "#parsivar\n",
        "from parsivar import Normalizer\n",
        "my_normalizer = Normalizer(statistical_space_correction=True)\n",
        "from parsivar import FindStems\n",
        "my_stemmer = FindStems()\n",
        "from parsivar import Tokenizer\n",
        "my_tokenizer = Tokenizer()\n",
        "\n",
        "def normalize_text(text):\n",
        "  words = my_tokenizer.tokenize_words(my_normalizer.normalize(text))\n",
        "  words_without_sw = [word for word in words if not word in stop_words]\n",
        "  for i in range(len(words_without_sw)):\n",
        "     words_without_sw[i] = my_stemmer.convert_to_stem(words_without_sw[i])\n",
        "  words_without_sw = [word for word in words_without_sw if not word in some_words_to_delete]\n",
        "  return words_without_sw"
      ],
      "metadata": {
        "id": "EcOJCgGXJQ0U"
      },
      "id": "EcOJCgGXJQ0U",
      "execution_count": 5,
      "outputs": []
    },
    {
      "cell_type": "markdown",
      "source": [
        "#### Normalizing Datas"
      ],
      "metadata": {
        "id": "DaWMzEQf_9Be"
      },
      "id": "DaWMzEQf_9Be"
    },
    {
      "cell_type": "code",
      "execution_count": 6,
      "id": "1485f05d",
      "metadata": {
        "id": "1485f05d"
      },
      "outputs": [],
      "source": [
        "train_file = train_data.copy(deep=True)\n",
        "train_file = train_file.dropna()\n",
        "test_file = test_data.copy(deep=True)\n",
        "test_file = test_file.dropna()\n",
        "\n",
        "train_file['content'] = [normalize_text(data) for data in train_file['content']]\n",
        "test_file['content'] = [normalize_text(data) for data in test_file['content']]"
      ]
    },
    {
      "cell_type": "code",
      "source": [
        "temp_train = train_file.copy(deep=True)\n",
        "temp_test = test_file.copy(deep=True)\n",
        "temp_train.head(5)"
      ],
      "metadata": {
        "colab": {
          "base_uri": "https://localhost:8080/",
          "height": 206
        },
        "id": "WSYhnS4lwe2s",
        "outputId": "177bb2c4-dcc7-4aa8-926c-f04bfcc23ced"
      },
      "id": "WSYhnS4lwe2s",
      "execution_count": 7,
      "outputs": [
        {
          "output_type": "execute_result",
          "data": {
            "text/plain": [
              "                                             content           label\n",
              "0  [فیلم, اکران, موزیکال, شاد, خاله, قورباغه, بزر...     هنر و سینما\n",
              "1  [فیلمسازی, کوئنتین‌تارانتینو, عاشق, سینما, کمت...     هنر و سینما\n",
              "2  [جانی, آیو, اپل, رفت‌جانی, آیو, نیازی, معرفی, ...  علم و تکنولوژی\n",
              "3  [احتمال, پشتیبانی, iOS, 13, آیفون‌5, اس, SE‌و,...  علم و تکنولوژی\n",
              "4  [دزد, مغازه, نماینده, ژاپن, اسکار, 2019, فیلم,...     هنر و سینما"
            ],
            "text/html": [
              "\n",
              "  <div id=\"df-adbf9ac0-b808-450c-8fab-b5e67ba49b62\">\n",
              "    <div class=\"colab-df-container\">\n",
              "      <div>\n",
              "<style scoped>\n",
              "    .dataframe tbody tr th:only-of-type {\n",
              "        vertical-align: middle;\n",
              "    }\n",
              "\n",
              "    .dataframe tbody tr th {\n",
              "        vertical-align: top;\n",
              "    }\n",
              "\n",
              "    .dataframe thead th {\n",
              "        text-align: right;\n",
              "    }\n",
              "</style>\n",
              "<table border=\"1\" class=\"dataframe\">\n",
              "  <thead>\n",
              "    <tr style=\"text-align: right;\">\n",
              "      <th></th>\n",
              "      <th>content</th>\n",
              "      <th>label</th>\n",
              "    </tr>\n",
              "  </thead>\n",
              "  <tbody>\n",
              "    <tr>\n",
              "      <th>0</th>\n",
              "      <td>[فیلم, اکران, موزیکال, شاد, خاله, قورباغه, بزر...</td>\n",
              "      <td>هنر و سینما</td>\n",
              "    </tr>\n",
              "    <tr>\n",
              "      <th>1</th>\n",
              "      <td>[فیلمسازی, کوئنتین‌تارانتینو, عاشق, سینما, کمت...</td>\n",
              "      <td>هنر و سینما</td>\n",
              "    </tr>\n",
              "    <tr>\n",
              "      <th>2</th>\n",
              "      <td>[جانی, آیو, اپل, رفت‌جانی, آیو, نیازی, معرفی, ...</td>\n",
              "      <td>علم و تکنولوژی</td>\n",
              "    </tr>\n",
              "    <tr>\n",
              "      <th>3</th>\n",
              "      <td>[احتمال, پشتیبانی, iOS, 13, آیفون‌5, اس, SE‌و,...</td>\n",
              "      <td>علم و تکنولوژی</td>\n",
              "    </tr>\n",
              "    <tr>\n",
              "      <th>4</th>\n",
              "      <td>[دزد, مغازه, نماینده, ژاپن, اسکار, 2019, فیلم,...</td>\n",
              "      <td>هنر و سینما</td>\n",
              "    </tr>\n",
              "  </tbody>\n",
              "</table>\n",
              "</div>\n",
              "      <button class=\"colab-df-convert\" onclick=\"convertToInteractive('df-adbf9ac0-b808-450c-8fab-b5e67ba49b62')\"\n",
              "              title=\"Convert this dataframe to an interactive table.\"\n",
              "              style=\"display:none;\">\n",
              "        \n",
              "  <svg xmlns=\"http://www.w3.org/2000/svg\" height=\"24px\"viewBox=\"0 0 24 24\"\n",
              "       width=\"24px\">\n",
              "    <path d=\"M0 0h24v24H0V0z\" fill=\"none\"/>\n",
              "    <path d=\"M18.56 5.44l.94 2.06.94-2.06 2.06-.94-2.06-.94-.94-2.06-.94 2.06-2.06.94zm-11 1L8.5 8.5l.94-2.06 2.06-.94-2.06-.94L8.5 2.5l-.94 2.06-2.06.94zm10 10l.94 2.06.94-2.06 2.06-.94-2.06-.94-.94-2.06-.94 2.06-2.06.94z\"/><path d=\"M17.41 7.96l-1.37-1.37c-.4-.4-.92-.59-1.43-.59-.52 0-1.04.2-1.43.59L10.3 9.45l-7.72 7.72c-.78.78-.78 2.05 0 2.83L4 21.41c.39.39.9.59 1.41.59.51 0 1.02-.2 1.41-.59l7.78-7.78 2.81-2.81c.8-.78.8-2.07 0-2.86zM5.41 20L4 18.59l7.72-7.72 1.47 1.35L5.41 20z\"/>\n",
              "  </svg>\n",
              "      </button>\n",
              "      \n",
              "  <style>\n",
              "    .colab-df-container {\n",
              "      display:flex;\n",
              "      flex-wrap:wrap;\n",
              "      gap: 12px;\n",
              "    }\n",
              "\n",
              "    .colab-df-convert {\n",
              "      background-color: #E8F0FE;\n",
              "      border: none;\n",
              "      border-radius: 50%;\n",
              "      cursor: pointer;\n",
              "      display: none;\n",
              "      fill: #1967D2;\n",
              "      height: 32px;\n",
              "      padding: 0 0 0 0;\n",
              "      width: 32px;\n",
              "    }\n",
              "\n",
              "    .colab-df-convert:hover {\n",
              "      background-color: #E2EBFA;\n",
              "      box-shadow: 0px 1px 2px rgba(60, 64, 67, 0.3), 0px 1px 3px 1px rgba(60, 64, 67, 0.15);\n",
              "      fill: #174EA6;\n",
              "    }\n",
              "\n",
              "    [theme=dark] .colab-df-convert {\n",
              "      background-color: #3B4455;\n",
              "      fill: #D2E3FC;\n",
              "    }\n",
              "\n",
              "    [theme=dark] .colab-df-convert:hover {\n",
              "      background-color: #434B5C;\n",
              "      box-shadow: 0px 1px 3px 1px rgba(0, 0, 0, 0.15);\n",
              "      filter: drop-shadow(0px 1px 2px rgba(0, 0, 0, 0.3));\n",
              "      fill: #FFFFFF;\n",
              "    }\n",
              "  </style>\n",
              "\n",
              "      <script>\n",
              "        const buttonEl =\n",
              "          document.querySelector('#df-adbf9ac0-b808-450c-8fab-b5e67ba49b62 button.colab-df-convert');\n",
              "        buttonEl.style.display =\n",
              "          google.colab.kernel.accessAllowed ? 'block' : 'none';\n",
              "\n",
              "        async function convertToInteractive(key) {\n",
              "          const element = document.querySelector('#df-adbf9ac0-b808-450c-8fab-b5e67ba49b62');\n",
              "          const dataTable =\n",
              "            await google.colab.kernel.invokeFunction('convertToInteractive',\n",
              "                                                     [key], {});\n",
              "          if (!dataTable) return;\n",
              "\n",
              "          const docLinkHtml = 'Like what you see? Visit the ' +\n",
              "            '<a target=\"_blank\" href=https://colab.research.google.com/notebooks/data_table.ipynb>data table notebook</a>'\n",
              "            + ' to learn more about interactive tables.';\n",
              "          element.innerHTML = '';\n",
              "          dataTable['output_type'] = 'display_data';\n",
              "          await google.colab.output.renderOutput(dataTable, element);\n",
              "          const docLink = document.createElement('div');\n",
              "          docLink.innerHTML = docLinkHtml;\n",
              "          element.appendChild(docLink);\n",
              "        }\n",
              "      </script>\n",
              "    </div>\n",
              "  </div>\n",
              "  "
            ]
          },
          "metadata": {},
          "execution_count": 7
        }
      ]
    },
    {
      "cell_type": "markdown",
      "source": [
        "# Phase 2\n",
        "#### Counting num of words"
      ],
      "metadata": {
        "id": "TyUvlobDvFcO"
      },
      "id": "TyUvlobDvFcO"
    },
    {
      "cell_type": "code",
      "source": [
        "tech_words = []\n",
        "art_words = []\n",
        "game_words = []\n",
        "health_words = []\n",
        "\n",
        "tech_df = temp_train.loc[temp_train['label'] == 'علم و تکنولوژی']\n",
        "art_df = temp_train.loc[temp_train['label'] == 'هنر و سینما']\n",
        "game_df = temp_train.loc[temp_train['label'] == 'بازی ویدیویی']\n",
        "health_df = temp_train.loc[temp_train['label'] == 'سلامت و زیبایی']\n",
        "for content in tech_df['content']:\n",
        "  tech_words += content\n",
        "for content in art_df['content']:\n",
        "  art_words += content\n",
        "for content in game_df['content']:\n",
        "  game_words += content\n",
        "for content in health_df['content']:\n",
        "  health_words += content\n",
        "\n",
        "all_words = tech_words + art_words + game_words + health_words\n",
        "set_of_all_words = set()\n",
        "for word in all_words:\n",
        "  set_of_all_words.add(word)\n",
        "\n",
        "#making dictionary along with the number of occurrences\n",
        "tech_dict = {}\n",
        "art_dict = {}\n",
        "game_dict = {}\n",
        "health_dict = {}\n",
        "\n",
        "def make_dict(list_of_words, dict):\n",
        "  for word in list_of_words:\n",
        "    if word in dict:\n",
        "        dict[word] += 1\n",
        "    else:\n",
        "        dict[word] = 1\n",
        "  for word in set_of_all_words:\n",
        "    if word not in dict:\n",
        "      dict[word] = 0\n",
        "  #Additive Smoothing\n",
        "  alpha = 5\n",
        "  for word in dict:\n",
        "    dict[word] += alpha\n",
        "\n",
        "make_dict(tech_words, tech_dict)\n",
        "make_dict(art_words, art_dict)\n",
        "make_dict(game_words, game_dict)\n",
        "make_dict(health_words, health_dict)\n",
        "\n",
        "tech_dict_for_plot = copy.deepcopy(tech_dict)\n",
        "art_dict_for_plot = copy.deepcopy(art_dict)\n",
        "game_dict_for_plot = copy.deepcopy(game_dict)\n",
        "health_dict_for_plot = copy.deepcopy(health_dict)"
      ],
      "metadata": {
        "id": "_CKRq3lzz3YB"
      },
      "id": "_CKRq3lzz3YB",
      "execution_count": 115,
      "outputs": []
    },
    {
      "cell_type": "markdown",
      "source": [
        "#### Calculating Probabilities"
      ],
      "metadata": {
        "id": "Ew4rBsZx7z5m"
      },
      "id": "Ew4rBsZx7z5m"
    },
    {
      "cell_type": "code",
      "source": [
        "def calculate_probability(dict):\n",
        "  words_num = 0\n",
        "  for word in dict:\n",
        "    words_num += dict[word]\n",
        "  for word in dict:\n",
        "    dict[word] = dict[word]/words_num\n",
        "\n",
        "calculate_probability(tech_dict)\n",
        "calculate_probability(art_dict)\n",
        "calculate_probability(game_dict)\n",
        "calculate_probability(health_dict)"
      ],
      "metadata": {
        "id": "UbYGCFkY5fpG"
      },
      "id": "UbYGCFkY5fpG",
      "execution_count": 116,
      "outputs": []
    },
    {
      "cell_type": "code",
      "source": [
        "def calculate_class_prob(text, dict, df):\n",
        "  prob = df.shape[0]/train_file.shape[0]\n",
        "  for word in text:\n",
        "    if word in dict:\n",
        "      if dict[word] == 0:\n",
        "        prob *= dict[word]\n",
        "      else:\n",
        "        prob *= abs(math.log(dict[word], 5000))\n",
        "      # print(prob)\n",
        "  if prob == 0:\n",
        "    return -float('inf') \n",
        "  else:\n",
        "    return -1*prob\n",
        "\n",
        "def find_the_class(text):\n",
        "  if isinstance(text, str):\n",
        "    text = normalize_text(text)\n",
        "  tech_prob = calculate_class_prob(text, tech_dict, tech_df)\n",
        "  art_prob = calculate_class_prob(text, art_dict, art_df)\n",
        "  game_prob = calculate_class_prob(text, game_dict, game_df)\n",
        "  health_prob = calculate_class_prob(text, health_dict, health_df)\n",
        "  decision_dict = {\n",
        "    'tech': tech_prob,\n",
        "    'art': art_prob,\n",
        "    'game': game_prob,\n",
        "    'health': health_prob\n",
        "  }\n",
        "  # print(decision_dict)\n",
        "  ans = 'tech'\n",
        "  ans_prob = decision_dict['tech']\n",
        "  for class_ in decision_dict:\n",
        "    if decision_dict[class_] > ans_prob:\n",
        "      ans = class_\n",
        "      ans_prob = decision_dict[class_]\n",
        "  \n",
        "  return ans"
      ],
      "metadata": {
        "id": "DAbSTbsi1_QU"
      },
      "id": "DAbSTbsi1_QU",
      "execution_count": 117,
      "outputs": []
    },
    {
      "cell_type": "code",
      "source": [
        "#Test\n",
        "text = '!آرامش روان خیلی خیلی مهم است'\n",
        "print('Text Class:' , find_the_class(text))"
      ],
      "metadata": {
        "colab": {
          "base_uri": "https://localhost:8080/"
        },
        "id": "vlsDcUF3003b",
        "outputId": "0d4fca1e-3e88-48d9-e8b7-202da13ab363"
      },
      "id": "vlsDcUF3003b",
      "execution_count": 118,
      "outputs": [
        {
          "output_type": "stream",
          "name": "stdout",
          "text": [
            "Text Class: health\n"
          ]
        }
      ]
    },
    {
      "cell_type": "markdown",
      "source": [
        "#### Bar Plot for most repeated words in each class"
      ],
      "metadata": {
        "id": "do-sYduwSVtr"
      },
      "id": "do-sYduwSVtr"
    },
    {
      "cell_type": "code",
      "source": [
        "pip install python-bidi"
      ],
      "metadata": {
        "colab": {
          "base_uri": "https://localhost:8080/"
        },
        "id": "J1s_OQDql3d8",
        "outputId": "e03ef0a2-75c9-4a67-8820-a6a12cc1df77"
      },
      "id": "J1s_OQDql3d8",
      "execution_count": 119,
      "outputs": [
        {
          "output_type": "stream",
          "name": "stdout",
          "text": [
            "Requirement already satisfied: python-bidi in /usr/local/lib/python3.7/dist-packages (0.4.2)\n",
            "Requirement already satisfied: six in /usr/local/lib/python3.7/dist-packages (from python-bidi) (1.15.0)\n"
          ]
        }
      ]
    },
    {
      "cell_type": "code",
      "source": [
        "pip install --upgrade arabic-reshaper"
      ],
      "metadata": {
        "colab": {
          "base_uri": "https://localhost:8080/"
        },
        "id": "3Ffzmh5hmkfN",
        "outputId": "bb9c1199-c7c2-47a6-9bc2-b20d6d440fc9"
      },
      "id": "3Ffzmh5hmkfN",
      "execution_count": 120,
      "outputs": [
        {
          "output_type": "stream",
          "name": "stdout",
          "text": [
            "Requirement already satisfied: arabic-reshaper in /usr/local/lib/python3.7/dist-packages (2.1.3)\n",
            "Requirement already satisfied: setuptools in /usr/local/lib/python3.7/dist-packages (from arabic-reshaper) (57.4.0)\n",
            "Requirement already satisfied: future in /usr/local/lib/python3.7/dist-packages (from arabic-reshaper) (0.16.0)\n"
          ]
        }
      ]
    },
    {
      "cell_type": "code",
      "source": [
        "import arabic_reshaper\n",
        "from bidi.algorithm import get_display\n",
        "\n",
        "tech_top = sorted(tech_dict, key=tech_dict.get, reverse=True)[:5]\n",
        "art_top = sorted(art_dict, key=art_dict.get, reverse=True)[:5]\n",
        "game_top = sorted(game_dict, key=game_dict.get, reverse=True)[:5]\n",
        "health_top = sorted(health_dict, key=health_dict.get, reverse=True)[:5]\n",
        "def make_class_num(dict, class_top):\n",
        "  num_list = []\n",
        "  for word in class_top:\n",
        "    num_list.append(dict[word])\n",
        "  return num_list\n",
        "\n",
        "tech_num_list = make_class_num(tech_dict_for_plot, tech_top)\n",
        "art_num_list = make_class_num(art_dict_for_plot, art_top)\n",
        "game_num_list = make_class_num(game_dict_for_plot, game_top)\n",
        "health_num_list = make_class_num(health_dict_for_plot, health_top)\n",
        "\n",
        "#function for barplot\n",
        "def barplot(x,y,title):\n",
        "  for i in range(len(x)):\n",
        "    x[i] = get_display(arabic_reshaper.reshape(x[i]))\n",
        "  plt.barh(x, y)\n",
        "  plt.title(get_display(arabic_reshaper.reshape(title)))\n",
        "  plt.xlabel('Count')\n",
        "  plt.ylabel('Words')\n",
        "  plt.show()\n",
        "\n",
        "#plot\n",
        "barplot(tech_top, tech_num_list, 'علم و تکنولوژِی')\n",
        "barplot(art_top, art_num_list, 'هنر و سینما')\n",
        "barplot(game_top, game_num_list, 'بازی ویدیویی')\n",
        "barplot(health_top, health_num_list, 'سلامت و زیبایی')"
      ],
      "metadata": {
        "colab": {
          "base_uri": "https://localhost:8080/",
          "height": 1000
        },
        "id": "ZcpOUrwk2Eur",
        "outputId": "8fbd2069-ebf0-41e2-af5d-dc0eba8bec03"
      },
      "id": "ZcpOUrwk2Eur",
      "execution_count": 121,
      "outputs": [
        {
          "output_type": "display_data",
          "data": {
            "text/plain": [
              "<Figure size 432x288 with 1 Axes>"
            ],
            "image/png": "[encoded data removed]"
          },
          "metadata": {
            "needs_background": "light"
          }
        },
        {
          "output_type": "display_data",
          "data": {
            "text/plain": [
              "<Figure size 432x288 with 1 Axes>"
            ],
            "image/png": "[encoded data removed]"
          },
          "metadata": {
            "needs_background": "light"
          }
        },
        {
          "output_type": "display_data",
          "data": {
            "text/plain": [
              "<Figure size 432x288 with 1 Axes>"
            ],
            "image/png": "[encoded data removed]"
          },
          "metadata": {
            "needs_background": "light"
          }
        },
        {
          "output_type": "display_data",
          "data": {
            "text/plain": [
              "<Figure size 432x288 with 1 Axes>"
            ],
            "image/png": "[encoded data removed]"
          },
          "metadata": {
            "needs_background": "light"
          }
        }
      ]
    },
    {
      "cell_type": "markdown",
      "source": [
        "# Phase 3"
      ],
      "metadata": {
        "id": "KFIzFyXYseQt"
      },
      "id": "KFIzFyXYseQt"
    },
    {
      "cell_type": "markdown",
      "source": [
        "### Accuracy"
      ],
      "metadata": {
        "id": "a8ickWh3WaSN"
      },
      "id": "a8ickWh3WaSN"
    },
    {
      "cell_type": "code",
      "source": [
        "correct_detected = 0\n",
        "for i in range(test_file.shape[0]):\n",
        "  ans = find_the_class(test_file['content'][i])\n",
        "  if ans == 'tech':\n",
        "    ans = 'علم و تکنولوژی'\n",
        "  elif ans == 'art':\n",
        "    ans = 'هنر و سینما'\n",
        "  elif ans == 'game':\n",
        "    ans = 'بازی ویدیویی'\n",
        "  elif ans == 'health':\n",
        "    ans = 'سلامت و زیبایی'\n",
        "\n",
        "  if ans == test_file['label'][i]:\n",
        "    correct_detected += 1\n",
        "accuracy = correct_detected/test_file.shape[0]*100\n",
        "print('Accuracy:', accuracy, '%')"
      ],
      "metadata": {
        "id": "7bfYNAieAkul",
        "colab": {
          "base_uri": "https://localhost:8080/"
        },
        "outputId": "24f19483-0560-4f04-839f-f7b888e180b3"
      },
      "id": "7bfYNAieAkul",
      "execution_count": 122,
      "outputs": [
        {
          "output_type": "stream",
          "name": "stdout",
          "text": [
            "Accuracy: 95.01246882793018 %\n"
          ]
        }
      ]
    },
    {
      "cell_type": "markdown",
      "source": [
        "### Recall"
      ],
      "metadata": {
        "id": "oziTM_5MXGEH"
      },
      "id": "oziTM_5MXGEH"
    },
    {
      "cell_type": "code",
      "source": [
        "def calculate_recall(e_title, label):\n",
        "  correct_detected = 0\n",
        "  my_test = test_file.loc[test_file['label'] == label]\n",
        "  for content in my_test['content']:\n",
        "    ans = find_the_class(content)\n",
        "    if ans == e_title:\n",
        "      correct_detected += 1\n",
        "  Recall = correct_detected/my_test.shape[0]*100\n",
        "  print(e_title,'recall:', Recall, '%')\n",
        "  return Recall"
      ],
      "metadata": {
        "id": "W6b4hibzWXk4"
      },
      "id": "W6b4hibzWXk4",
      "execution_count": 123,
      "outputs": []
    },
    {
      "cell_type": "code",
      "source": [
        "#tech\n",
        "label = \"علم و تکنولوژی\"\n",
        "tech_recall = calculate_recall('tech', label)\n",
        "#art\n",
        "label = \"هنر و سینما\"\n",
        "art_recall = calculate_recall('art', label)\n",
        "#game\n",
        "label = \"بازی ویدیویی\"\n",
        "game_recall = calculate_recall('game', label)\n",
        "#health\n",
        "label = \"سلامت و زیبایی\"\n",
        "health_recall = calculate_recall('health', label)"
      ],
      "metadata": {
        "colab": {
          "base_uri": "https://localhost:8080/"
        },
        "id": "RuBBudWhWXqO",
        "outputId": "aaa9d504-1cf2-4aa1-c2b3-e52a6791a5d4"
      },
      "id": "RuBBudWhWXqO",
      "execution_count": 124,
      "outputs": [
        {
          "output_type": "stream",
          "name": "stdout",
          "text": [
            "tech recall: 95.66787003610109 %\n",
            "art recall: 99.40119760479041 %\n",
            "game recall: 88.83248730964468 %\n",
            "health recall: 96.8944099378882 %\n"
          ]
        }
      ]
    },
    {
      "cell_type": "markdown",
      "source": [
        "### Precision"
      ],
      "metadata": {
        "id": "3KdxIa35oBMy"
      },
      "id": "3KdxIa35oBMy"
    },
    {
      "cell_type": "code",
      "source": [
        "def calculate_precision(e_title, label):\n",
        "  correct_detected = 0\n",
        "  my_test = test_file.loc[test_file['label'] == label]\n",
        "  for content in my_test['content']:\n",
        "    ans = find_the_class(content)\n",
        "    if ans == e_title:\n",
        "      correct_detected += 1\n",
        "      \n",
        "  all_detected_class = 0\n",
        "  for i in range(test_file.shape[0]):\n",
        "    ans = find_the_class(test_file['content'][i])\n",
        "    if ans == e_title:\n",
        "      all_detected_class += 1\n",
        "  Precision = correct_detected/all_detected_class*100\n",
        "  print(e_title,'precision:', Precision, '%')\n",
        "  return Precision"
      ],
      "metadata": {
        "id": "PxNt6R_XabfT"
      },
      "id": "PxNt6R_XabfT",
      "execution_count": 125,
      "outputs": []
    },
    {
      "cell_type": "code",
      "source": [
        "#tech\n",
        "label = \"علم و تکنولوژی\"\n",
        "tech_precision = calculate_precision('tech', label)\n",
        "#art\n",
        "label = \"هنر و سینما\"\n",
        "art_precision = calculate_precision('art', label)\n",
        "#game\n",
        "label = \"بازی ویدیویی\"\n",
        "game_precision = calculate_precision('game', label)\n",
        "#health\n",
        "label = \"سلامت و زیبایی\"\n",
        "health_precision = calculate_precision('health', label)"
      ],
      "metadata": {
        "colab": {
          "base_uri": "https://localhost:8080/"
        },
        "id": "pgfBcRE5abhg",
        "outputId": "306bb1ee-f721-4264-d96e-b35ba8e0d9f1"
      },
      "id": "pgfBcRE5abhg",
      "execution_count": 126,
      "outputs": [
        {
          "output_type": "stream",
          "name": "stdout",
          "text": [
            "tech precision: 95.32374100719424 %\n",
            "art precision: 91.71270718232044 %\n",
            "game precision: 99.43181818181817 %\n",
            "health precision: 93.41317365269461 %\n"
          ]
        }
      ]
    },
    {
      "cell_type": "markdown",
      "source": [
        "### F1-Score"
      ],
      "metadata": {
        "id": "hNQo24Ld6WpF"
      },
      "id": "hNQo24Ld6WpF"
    },
    {
      "cell_type": "code",
      "source": [
        "tech_f1 = 2*tech_recall*tech_precision/(tech_recall+tech_precision)\n",
        "print('tech F1:', tech_f1, '%')\n",
        "art_f1 = 2*art_recall*art_precision/(art_recall+art_precision)\n",
        "print('art F1:', art_f1, '%')\n",
        "game_f1 = 2*game_recall*game_precision/(game_recall+game_precision)\n",
        "print('game F1:', game_f1, '%')\n",
        "health_f1 = 2*health_recall*health_precision/(health_recall+health_precision)\n",
        "print('health F1:', health_f1, '%')"
      ],
      "metadata": {
        "colab": {
          "base_uri": "https://localhost:8080/"
        },
        "id": "HZqLMj-0abj2",
        "outputId": "c5ff9007-3286-4266-9f80-33ced5207180"
      },
      "id": "HZqLMj-0abj2",
      "execution_count": 127,
      "outputs": [
        {
          "output_type": "stream",
          "name": "stdout",
          "text": [
            "tech F1: 95.49549549549549 %\n",
            "art F1: 95.40229885057471 %\n",
            "game F1: 93.83378016085791 %\n",
            "health F1: 95.1219512195122 %\n"
          ]
        }
      ]
    },
    {
      "cell_type": "markdown",
      "source": [
        "### F1-Macro-Average"
      ],
      "metadata": {
        "id": "KewFqliSCTTZ"
      },
      "id": "KewFqliSCTTZ"
    },
    {
      "cell_type": "code",
      "source": [
        "f1_macro_average = (tech_f1 + art_f1 + game_f1 + health_f1)/4\n",
        "print('F1 Macro Average:', f1_macro_average, '%')"
      ],
      "metadata": {
        "colab": {
          "base_uri": "https://localhost:8080/"
        },
        "id": "2KMgjuKeabmN",
        "outputId": "e958e699-042b-4c17-8494-47dfaa155f89"
      },
      "id": "2KMgjuKeabmN",
      "execution_count": 128,
      "outputs": [
        {
          "output_type": "stream",
          "name": "stdout",
          "text": [
            "F1 Macro Average: 94.96338143161009 %\n"
          ]
        }
      ]
    },
    {
      "cell_type": "markdown",
      "source": [
        "### F1-Micro-Average"
      ],
      "metadata": {
        "id": "igoeyctFKgPk"
      },
      "id": "igoeyctFKgPk"
    },
    {
      "cell_type": "code",
      "source": [
        "#Recall micro average\n",
        "correct_detected = 0\n",
        "# my_test = test_file.loc[test_file['label'] == label]\n",
        "for i in range(test_file.shape[0]):\n",
        "  ans = find_the_class(test_file['content'][i])\n",
        "  if ans == 'tech':\n",
        "    ans = 'علم و تکنولوژی'\n",
        "  elif ans == 'art':\n",
        "    ans = 'هنر و سینما'\n",
        "  elif ans == 'game':\n",
        "    ans = 'بازی ویدیویی'\n",
        "  elif ans == 'health':\n",
        "    ans = 'سلامت و زیبایی'\n",
        "  if ans == test_file['label'][i]:\n",
        "    correct_detected += 1\n",
        "recall_micro_average = correct_detected/test_file.shape[0]*100\n",
        "\n",
        "#Precision micro average\n",
        "correct_detected = 0\n",
        "for i in range(test_file.shape[0]):\n",
        "  ans = find_the_class(test_file['content'][i])\n",
        "  if ans == 'tech':\n",
        "    ans = 'علم و تکنولوژی'\n",
        "  elif ans == 'art':\n",
        "    ans = 'هنر و سینما'\n",
        "  elif ans == 'game':\n",
        "    ans = 'بازی ویدیویی'\n",
        "  elif ans == 'health':\n",
        "    ans = 'سلامت و زیبایی'\n",
        "  if ans == test_file['label'][i]:\n",
        "    correct_detected += 1\n",
        "precision_micro_average = correct_detected/test_file.shape[0]*100\n",
        "\n",
        "#F1 micro average\n",
        "f1_micro_average = 2*recall_micro_average*precision_micro_average/(recall_micro_average+precision_micro_average)\n",
        "print('F1 Micro Average:', f1_micro_average, '%')"
      ],
      "metadata": {
        "colab": {
          "base_uri": "https://localhost:8080/"
        },
        "id": "rVZcOsr8CSso",
        "outputId": "2d6bbf11-eda3-4ea8-a3fc-b0703e9f8cdd"
      },
      "id": "rVZcOsr8CSso",
      "execution_count": 129,
      "outputs": [
        {
          "output_type": "stream",
          "name": "stdout",
          "text": [
            "F1 Micro Average: 95.01246882793016 %\n"
          ]
        }
      ]
    },
    {
      "cell_type": "markdown",
      "source": [
        "### Weighted-Average"
      ],
      "metadata": {
        "id": "ci71i2-GN9Op"
      },
      "id": "ci71i2-GN9Op"
    },
    {
      "cell_type": "code",
      "source": [
        "#counting num of samples in each class\n",
        "tech_num = 0\n",
        "art_num = 0\n",
        "game_num = 0\n",
        "health_num = 0\n",
        "for label in test_file['label']:\n",
        "  if label == 'علم و تکنولوژی':\n",
        "    tech_num += 1 \n",
        "  elif label == 'هنر و سینما':\n",
        "    art_num += 1\n",
        "  elif label == 'بازی ویدیویی':\n",
        "    game_num += 1\n",
        "  elif label == 'سلامت و زیبایی':\n",
        "    health_num += 1\n",
        "f1_weighter_average = (tech_f1*tech_num + art_f1*art_num + game_f1*game_num + health_f1*health_num)/(tech_num+art_num+game_num+health_num)\n",
        "print('F1 Weighted Average:', f1_weighter_average, '%')"
      ],
      "metadata": {
        "id": "wA6wa4lHCSvv",
        "colab": {
          "base_uri": "https://localhost:8080/"
        },
        "outputId": "5bc0c4ab-5443-4bc1-efd3-1df8e2dd849c"
      },
      "id": "wA6wa4lHCSvv",
      "execution_count": 130,
      "outputs": [
        {
          "output_type": "stream",
          "name": "stdout",
          "text": [
            "F1 Weighted Average: 94.9929239380657 %\n"
          ]
        }
      ]
    },
    {
      "cell_type": "markdown",
      "source": [
        "### Five Articles that Detected Wrongly"
      ],
      "metadata": {
        "id": "vRtbXaKPbuyn"
      },
      "id": "vRtbXaKPbuyn"
    },
    {
      "cell_type": "code",
      "source": [
        "with open('five wrong detected articles.txt', 'w') as f:\n",
        "  count = 0\n",
        "  for i in range(test_file.shape[0]):\n",
        "    ans = find_the_class(test_file['content'][i])\n",
        "    if ans == 'tech':\n",
        "      ans = 'علم و تکنولوژی'\n",
        "    elif ans == 'art':\n",
        "      ans = 'هنر و سینما'\n",
        "    elif ans == 'game':\n",
        "      ans = 'بازی ویدیویی'\n",
        "    elif ans == 'health':\n",
        "      ans = 'سلامت و زیبایی'\n",
        "    if ans != test_file['label'][i]:\n",
        "      count += 1\n",
        "      f.write(test_data['content'][i])\n",
        "      f.write('\\n')\n",
        "      f.write('\\n')\n",
        "      print('Article', count, ':', '( real class:',test_file['label'][i], ' detected class:', ans, ')')\n",
        "      print(test_data['content'][i])\n",
        "    if count == 5:\n",
        "      break"
      ],
      "metadata": {
        "id": "Z_T2yLp3CSxv",
        "colab": {
          "base_uri": "https://localhost:8080/"
        },
        "outputId": "8f51464d-0a9b-4b45-f53e-535ee74144c1"
      },
      "id": "Z_T2yLp3CSxv",
      "execution_count": 148,
      "outputs": [
        {
          "output_type": "stream",
          "name": "stdout",
          "text": [
            "Article 1 : ( real class: بازی ویدیویی  detected class: هنر و سینما )\n",
            "سریال Devil May Cry ساخته می‌شود طبق گزارش وب‌سایت IGN، سریال انیمیشنی دویل می‌کرای (Devil May Cry) در دست ساخت قرار دارد‌ این مجموعه توسط تهیه‌کننده سریال کسلوانیا یعنی ادی شنکار (Adi Shankar) ساخته می‌شود. طبق گفته شنکار، هر دوی این مجموعه‌ها در یک دنیای مشترک تلویزیونی با نام جریان دارند. هنوز هیچ چیزی درباره زمان پخش سریال Devil May Cry و افراد سازنده آن، یا حتی شبکه‌ای که قرار است آن را پخش کند، نمی‌دانیم. هنوز هیچ چیزی درباره زمان پخش سریال Devil May Cry نمی‌دانیم. شنکار در ادامه صحبت‌های خود اعلام کرد که موفقیت سریال کسلوانیا به ساخت سریال‌های جدید کمک کرده است. فصل دوم سریال کسلوانیا چند وقت پیش بر روی شبکه نت‌فلیکس منتشر شد و توانست عملکرد بی‌نظیری از خود نشان دهد. در واقع استقبال هواداران از این مجموعه به حدی خوب بود که ساخت فصل سوم آن بلافاصله تایید شد. داستان این سریال توسط وارن الیس نوشته شده است؛ او پیش از این روی کمیک‌ها و رمان‌هایی مثل Transmetropolitan و The Authority کار کرده بود. سری Devil May Cry از زمان انتشار اولین قسمت خود موفق شده بیش از ۱۶ میلیون نسخه در سراسر جهان فروش داشته باشد. شرکت کپ‌کام هم چند ماه پیش قسمت پنجم این مجموعه را معرفی کرد که قرار است در روز ۱۷ اسفند روی سه پلتفرم ایکس‌باکس وان، پلی‌استیشن ۴ و کامپیوتر روانه بازار شود. منبع: Variety\n",
            "Article 2 : ( real class: بازی ویدیویی  detected class: هنر و سینما )\n",
            "مسترچیف شخصیت اصلی سریال Halo خواهد بود یکی دو ماه پیش بود بود که استودیوی سازنده مجموعه بازی‌های هیلو، یعنی استودیوی ۳۴۳ Industries اعلام کرد با همکاری شبکه‌های Amblin Television، شوتایم و البته تهیه کنندگی استیون اسپیلبرگ مشغول ساخت یک سریال تلویزیونی بر اساس بازی هیلو (Halo) هستند‌ در این بیانیه جدا از اعلام نام دست اندرکاران این پروژه و تاریخ شروع مراحل تولید این سریال (سال ۲۰۱۹)، اطلاعاتی هم درباره ماهیت آن ارایه شد‌ حالا شبکه شوتایم هم در کنفرانس مطبوعاتی خود اطلاعات بیشتری را از این مجموعه منتشر کرده است‌تولید سریال هیلو قرار است از سال آینده‌ی میلادی آغاز شود‌در این پنل مطبوعاتی، دیوید نوینز (مدیر شبکه شوتایم) و گری لوین (رئیس بخش برنامه‌ریزی شبکه شوتایم) حضور داشتند‌ وقتی از آن‌ها درباره احتمال حضور مسترچیف (شخصیت اصلی سری بازی‌های هیلو) سوال شد، هر دو آن‌ها تایید کردند که نه تنها این کاراکتر در این سریال حضور خواهد داشت، بلکه در واقع نقش اصلی و بسیار مهمی هم ایفا خواهد کرد. پس از آن، لوین اطلاعاتی را درباره ماهیت این پروژه در اختیار علاقه‌مندان قرار داد. او اظهار داشت که این سریال داستان مخصوص به خود را خواهد داشت و ماجرای آن هیچ ارتباطی به بازی‌ها ندارد. وی همچنین در ادامه صحبت‌های خود افزود که آن‌ها سعی دارند یک درام شخصیتی قابل تحسین را همراه با نبردهای علمی-تخیلی به طرفداران ارائه کنند. از آنجایی که داستان این سریال یک ماجرای کاملا جدید را روایت خواهد کرد، ممکن است بعضی از طرفداران نگران این باشند که این سریال از ریشه‌های دنیای هیلو فاصله بگیرد. لوین درباره این موضوع گفت: این سریال یک داستان جدید خواهد داشت، ولی ما به هسته اصلی آثار این مجموعه وافادار مانده‌ایم و به همین منظور، ما با استودیوهای مایکروسافت و ۳۴۳ Industries همکاری داشته‌ایم. با اینکه ماجرای ساخت این سریال سال‌ها به طول انجامیده، اما بالاخره قرار است این سریال را تماشا کنیم. خوشبختانه افراد زیادی از استودیوی ۳۴۳ Industries در این پروژه دخیل هستند و می‌توانیم منتظر دیدن یک سریال درخور سری هیلو باشیم. منبع: Attack of the Fanboy\n",
            "Article 3 : ( real class: بازی ویدیویی  detected class: علم و تکنولوژی )\n",
            "Ryzen Threadripper: قوی‌ترین پردازنده‌های AMD شرکت AMD در طی یک کنفرانس خبری، جزییات مربوط به جدیدترین پردازنده‌های گرافیکی خود، یعنی کارت‌های سری RX Vega را مشخص کرد. در کنار معرفی این کارت‌های گرافیکی، AMD هم‌چنین از پردازنده‌های اصلی خود گفت. این شرکت برنامه‌های بزرگی برای پردازنده‌های Ryzen Threadripper دارد. در ادامه، می‌توانید نگاهی کوتاه و کامل به اطلاعاتی که AMD از پردازنده‌های Ryzen Threadripper ارایه داده، داشته باشید. مدل‌هامی‌دانستیم که قرار است سری Threadripper دو مدل داشته باشد: ۱۹۵۰X و ۱۹۲۰X- شرکت AMD آمد و گفت که یک مدل سوم هم وجود دارد: ۱۹۰۰X- این پردازنده ضعیف‌تر و ارزان‌تر است. هر سه مدل از سوکت جدید sTR۴ استفاده می‌کنند و یک مادربرد جدید می‌خواهند که از چیپ‌ست‌های x۳۹۹ پشتیبانی کند. شرکت AMD می‌گوید که شرکت‌های مختلفی مثل Asrock، Asus، Gigabyte و MSI مادربردهای خود را برای عرضه‌ی سری پردازنده‌های جدید Threadripper آماده کرده‌اند. هر سه پردازنده، برای کسانی ساخته شده‌اند که یا بازی‌ساز هستند و کار تخصصی می‌کنند، یا گیمرهایی که همزمان در کنار بازی‌های‌شان، چند نرم‌افزار دیگر هم باز دارند؛ مثل نرم‌افزارهای ویرایش و استریم همزمان ویدیوی روند بازی. مشخصاتمشخصات سه پردازنده‌ی سری Ryzen Threadripper از این قرار است:۱۹۵۰X۱۹۲۰X۱۹۰۰Xتعداد هسته۱۶۱۲۸تعداد تر۳۲۲۴۱۶لاین PCIe۶۴۶۴۶۴فرکانس پایه۳٫۴ گیگاهرتز۳٫۵ گیگاهرتز۳٫۸ گیگاهرتزفرکانس بوست۴٫۰ گیگاهرتز۴٫۰ گیگاهرتز۴٫۰ گیگاهرتزانرژی مصرفی۱۸۰ وات۱۸۰ وات۱۸۰ واتپردازنده‌ی ۱۹۵۰X اولین پردازنده‌ی ۱۶ هسته‌ای دسکتاپ است. تمام پردازنده‌ها آنلاک هستند؛ یعنی می‌توان آن‌ها را اورکلاک کرد. شرکت AMD می‌گوید که می‌توان فرکانس ۱۹۰۰X را در حالت بوست به ۴٫۲ گیگاهرتز هم رساند، ولی به شرطی که سیستم خنک کننده‌ی خوبی برای آن تنظیم کرده باشید. قیمتقیمت سه مدل پردازنده‌ی Threadripper از این قرار است:۱۹۵۰X: با قیمت ۹۹۹ دلار۱۹۲۰X: با قیمت ۷۹۹ دلار۱۹۰۰X: با قیمت ۵۴۹ دلاراگر یک پردازنده صرفا برای بازی کردن می‌خواهید، سراغ این مدل‌ها نروید. این پردازنده‌ها واقعا گران هستند و بیشتر برای کسانی ساخته شده‌اند که می‌خواهند بازی را با کیفیت بالا اجرا کنند و در کنار آن، بازی‌شان را استریم کنند و بار سنگینی روی پردازنده قرار دهند. عملکردشرکت AMD گفته که پردازنده‌ی ۱۰۰۰ دلاری این شرکت، یعنی همان مدل ۱۶ هسته‌ای ۱۹۵۰X، عملکردی ۳۸ درصد بهتر از پردازنده‌ی ده هسته‌ای Core i۹-۷۹۰۰X اینتل دارد. این شرکت هم‌چنین می‌گوید که پردازنده‌ی ۱۲ هسته‌ای ۱۹۲۰X در بنچمارک‌ها، از همان ۷۹۰۰X عملکردش ۱۱ درصد بهتر است. برای معرفی این پردازنده‌ها، شرکت AMD بارها به عبارت ماشینی برای انجام چند کار با هم اشاره کرده است. شما هم این موضوع را فراموش نکنید. تاریخ عرضهدو پردازنده‌ی ۱۹۵۰X و ۱۹۲۰X قرار است در روز ده آگوست وارد بازار شوند. می‌توان از همین امروز این پردازنده‌ها را پیش‌خرید کرد. مدل هشت هسته‌ای Threadripper یعنی ۱۹۰۰X در روز ۳۱ آگوست عرضه خواهد شد.\n",
            "Article 4 : ( real class: بازی ویدیویی  detected class: هنر و سینما )\n",
            "مروری بر داستان Red Dead Redemption پس از هشت سال انتظار، بالاخره قسمت دوم Red Dead Redemption فردا رسما روانه بازار می‌شود. با اینکه بازی به عنوان شماره دوم این سری عرضه می‌شود، اما داستان آن پیش از وقایع قسمت قبلی جریان دارد؛ بنابراین، هم‌اکنون فرصت مناسبی است تا مهم‌ترین اطلاعات داستان بازی قبلی را با هم مرور کنیم. تا اینجای کار مطمئن هستیم که در طول بازی Red Dead Redemption ۲ با چهره‌های آشنا و قدیمی برخورد خواهیم داشت. توجه داشته باشید که اگر هنوز Red Dead Redemption را تجربه نکرده‌اید، ادامه‌ی مقاله تمام داستان بازی را برای‌تان فاش می‌کند. چون Red Dead Redemption ۲ یک پیش‌درآمد برای قسمت قبلی است، نیازی به دانستن داستان آن ندارید. پیشنهاد می‌کنیم خودتان Red Dead Redemption را بازی کنید. ما هم مطلب را با هدف یادآوری برای کسانی نوشته‌ایم که بازی اول را سال‌ها پیش تجربه کرده‌اند. در این مقاله به صورت خلاصه‌ نگاهی به مهم‌ترین اتفاقات داستانی بازی و سرگذشت کاراکترهای آن خواهیم انداخت. بیشتر بخوانید: نقدها و نمرات Red Dead Redemption ۲ منتشر شدندآمریکا در سال ۱۹۱۱وقایع داستانی بازی در سال ۱۹۱۱ جریان دارد؛ زمانی که آمریکا دستخوش تغییرات زیادی شده و زندگی غرب وحشی و بی‌تمدن مردم جای خود را به تکنولوژی‌های جدید و زندگی شهری داده‌اند. تغییراتی که طبعا نابودی گروه‌های خلافکاری و اعضای آن را به همراه دارد. بازی Red Dead Redemption شما را در نقش جان مارستون (John Marston) قرار می‌دهد؛ شخصیتی که سرنوشت آن در طول بازی شکل می‌گیرد و اتفاقات بزرگی برای او روی می‌دهد‌ورود جان مارستونجان مارستون بعد از مرگ خانواده‌اش تحت سرپرستی گنگ داچ ون در لیند بزرگ شد؛ فردی که فضای بی‌رحمانه و ظالمانه غرب وحشی شرایطی را برای او فراهم کرد تا گروه خلافکاری خود را تشکیل دهد‌ جان مارستون چندین سال در کنار داچ بود و در گروه او فعالیت می‌کرد تا اینکه در یکی از سرقت‌ها، جان به شدت مجروح می‌شود و هیچکدام از اعضای گروه هم به کمک او نمی‌آیند‌این اتفاق باعث شد تا جان مارستون برهه جدیدی را در زندگی خود آغاز کند‌ پس از این موضوع، او تصمیم گرفت تا به همراه ابیگیل (همسرش)، جک (فرزند جان) و Uncle (یکی از اعضای گروه که نسبت خاصی با جان ندارد) به یک مزرعه بروند و زندگی جدیدی را در آرامش و صلح آغاز کنند‌ آن‌ها به مدت پنج سال در این مزرعه زندگی می‌کنند‌تا اینکه دولت و اداره تحقیقات تصمیم می‌گیرند تا سایر اعضای گروه را پیدا کنند و به قتل برسانند‌ ادگار راس (رئیس سازمان) تصمیم گرفت تا این وظیفه را بر عهده جان مارستون بگذارد. راس به منظور تحقق این هدف، ابیگیل و جک را گروگان می‌گیرد و یک شرط برای آزادی آن‌ها می‌گذارد: جان باید باقی اعضای گروه قدیمی خود را پیدا کند و به قتل برساند. بیل ویلیامسون اولین هدف جان مارستون در این ماموریت بود. شکار بیل ویلیامسونجان و بیل ویلیامسون در گذشته دائما با هم درگیر بودند و اساسا رابطه خوبی با یکدیگر نداشتند. از این رو، تجدید دیدار این دو کاراکتر در منطقه فورت مرسر دردسرهای زیادی را به همراه داشت. با اینکه جان از او خواست تا تسلیم شود، اما بیل کوتاه نیامد و یکی از افراد او به جان شلیک کرد. قبل از اینکه جان از شدت خونریزی کشته شود، یکی گله‌داران محلی با نام بانی مک‌فارلن او را پیدا کرد و نجات داد. مداوای جان مارستونبانی خرج دوا و درمان جان را پرداخت کرد. بعد از اینکه جان سلامت خود را به دست آورد، به منظور پرداخت بدهی خود مجبور شد تا مدتی در مزرعه او کار کند. زمانی که بیل ویلیامسون متوجه شد که مارستون از تیراندازی جان سالم به در برده، تعدادی از افراد خود را به مزرعه مک‌فارلن فرستاد تا او را از مخفی‌گاه خود بیرون بکشند. جان در نهایت موفق شد تا کارگران مزرعه را نجات دهد، اما این اتفاق به او فهماند که برای مقابله با بیل ویلیامسون به افراد دیگری هم نیاز دارد و به تنهایی از پس آن‌ها بر نخواهد آمد. تشکیل یک تیمجان تصمیم گرفت تا با تعدادی از مردم منطقه نیو آستین یک تیم تشکیل دهد و در این راه از افراد مختلفی از جمله نایجل وست دیکنز و سث کمک بگیرد. او همینطور با همکاری کلانتر لی جانسون و افرادش موفق شد تا یکی از افراد ویلیامسون را دستگیر کنند. بیل ویلیامسون هم در عوض بانی مک‌فرلین را گروگان گرفت. بعد از نجات و آزاد کردن بانی، نوبت به کشتن بیل رسید. محاصره قلعهجان در نهایت با استفاده از تجهیزات وست دیکنز، افراد کلانتر و مهارت سث توانست تا فورت مرسر را محاصره کند. اما این پایان کار نبود. آن‌ها متوجه شدند که ویلیامسون به مکزیک سفر کرد تا از خاویر اسکوئلا کمک بگیرد. خاویر هم از اعضای قدیمی گروه ون در لیند بود. سفر به مکزیکدومین بخش داستان و یکی از به یاد ماندنی‌ترین لحظات بازی با سفر به مکزیک آغاز می‌شود. هنگام ورود به این منطقه متوجه می‌شویم که ارتش مکزیک در سرکوب کردن نیروهای شورشی به مشکل برخورده و آبراهام ریس رهبر شورشی‌ها هر روز قدرتمند و قدرتمندتر می‌شود. جان هم به خاطر پیدا کردن محل ویلیامسون و اسکوئلا مجبور می‌شود تا با پیشنهاد سرهنگ آینده و کاپیتان د سانتا موافقت نماید و به نیروهای ارتشی مکزیک کمک کند. تقابل جبهه‌هامشکلی که در این بین وجود دارد این است که جان واقعا به ارتش مکزیک وفادار نیست و تنها به خاطر پیدا کردن بیل و خاویر به مکزیک آمده. بنابراین تصمیم می‌گیرد تا با رئیس شورشی‌ها یعنی ریس و معشوقه‌اش هم همکاری کند. او در این مسیر با لندن ریکتز، هفت‌تیرکش مشهور، هم آشنا می‌شود. پایان کار بیل ویلیامسونزمانی که آلنده متوجه می‌شود که جان در جبهه آن‌ها نیست و با شورشی‌ها هم همکاری می‌کند، حکم اعدام او را صادر می‌کند. در همین زمان شورشی‌ها از راه می‌رسند و کاپیتان د سانتا را به قتل می‌رسانند. در ادامه ماجرا هم جان با کمک شورشی‌ها آلنده و ویلیامسون را به قتل می‌رساند و اسکوئلا را دستگیر می‌کند. متاسفانه در این حمله معشوقه ریس کشته می‌شود. در این نقطه کار جان مارستون در مکزیک به پایان می‌رسد و به آمریکا بازمی‌گردد تا خانواده خود را آزاد کند. داچ ون در لیند، شکار بعدی جان مارستونشوربختانه، ادگار راس با آزاد کردن خانواده مارستون مخالفت می‌کند و از جان می‌خواهد تا این بار به سراغ داچ، رهبر گروه قبلی برود. داچ برای دومین بار یک گروه خلافکار از جوانان بومی آمریکا تشکیل داده و همین موضوع باعث شده تا دولت آمریکا به دردسر بیفتد. جان تصمیم می‌گیرد تا در این مسیر با هارولد مک دوگال همکاری کند. آخرین دوئلجان در ادامه مسیر با Nastas آشنا می‌شود. او یکی از اعضای گروه داچ است که زیر نظر اداره تحقیقات و ادگار رایت کار می‌کند. بعد از یک تعقیب و گریز طولانی، جان بالاخره موفق می‌شود تا مخفی‌گاه داچ را پیدا کند و به آن حمله کند. در نهایت جان و داچ در مقابل یکدیگر قرار می‌گیرند. در این نقطه داچ دیگر می‌فهمد که دنیا تغییر کرده و نمی‌تواند مثل سابق به مبارزه کردن ادامه دهد؛ بنابراین تصمیم می‌گیرد تا خودش را بکشد. بازگشت به خانهبالاخره ماجراجویی جان مارستون به پایان خود می‌رسد و او موفق می‌شود تا خانواده‌ی خود را آزاد کند. با این حال، ادگار راس به قول خود وفادار نماند و دستور داد تا ماموران اداره تحقیقات به مزرعه جان مارستون حمله کنند. در ابتدا کار Uncle تیر خورد و کشته شد. پس از آن، جان سریعا ابیگیل و جک را سوار بر اسب کرد و آن‌ها را فراری داد. در نهایت جان مارستون هم به دست افراد ادگار رایت کشته شد. انتقام جکبخش پایانی بازی سه سال بعد از مرگ جان مارستون آغاز می‌شود. حالا دیگر ابیگیل هم مرده است و جک، پسر جان، تصمیم می‌گیرد تا انتفام مرگ پدرش را از ادگار راس بگیرد. جک در نهایت موفق می‌شود تا این مامور بازنشسته را پیدا کند. در پایان کار، جک در مقابل راس قرار می‌گیرد و او را به یک دوئل دعوت می‌کند. در جست و جوی گذشتهدر Red Dead Redemption ۲ ما نگاه نزدیک و با جزییات‌تری به سال‌های اولیه خانواده مارستون خواهیم انداخت. در آن زمان، هم جان مارستون و هم ابیگیل جزء اعضای اصلی گروه داچ بودند. آیا با چهره‌های دیگری هم ملاقات خواهیم کرد؟ برای یافتن جواب این سوال باید تا روز انتشار بازی صبر کنیم. منبع: GameSpot\n",
            "Article 5 : ( real class: بازی ویدیویی  detected class: علم و تکنولوژی )\n",
            "افزایش قیمت پلی‌استیشن، یکی از نتایج جنگ تجاری چین و آمریکا به گزارش وال‌استریت ژورنال، شرکت سونی تهدید کرده اگر دولت ترامپ به افزایش تعرفه‌های گمرکی کالاهای چینی ادامه دهد، کنسول‌های پلی‌استیشن گران‌تر می‌شوند. دولت ترامپ – که در ماه می‌قیمت تعرفه‌های اعمال شده بر ۲۰۰ میلیارد دلار از کالاهای چینی را ۲۵ درصد افزایش داد – به تازگی تهدید کرده که این تعرفه‌ها روی ۳۰۰ میلیارد دلار دیگر از کالاهای چینی صادر شده هم اعمال خواهد شد که این مقدار شامل کنسول‌های بازی هم می‌شود. جهت آماده‌سازی و مقابله با گسترش احتمالی تعرفه‌ها، سونی اعلام کرده که گزینه‌های خود را بررسی می‌کند؛ در حال حاضر، انتقال هزینه ساخت و تولید کنسول روی دوش مشتری‌ها از گزینه‌های در دسترس سونی محسوب می‌شود. وال‌استریت ژورنال در گزارش خود نوشته است که در صورت ادامه یافتن تعرفه‌ها، افزایش قیمت کنسول‌ها یک عمل ضروری است، با این حال سونی هنوز هیچ تصمیم قطعی در این مورد نگرفته است. هیروکی توتوکی، مدیر مالی سونی، درباره این موضوع گفت: همان‌طور که به دولت آمریکا گفته‌ایم، ما باور داریم که تعرفه‌های بالاتر در نهایت به اقتصاد آمریکا ضربه خواهد زد. ماه گذشته شرکت سونی به همراه نینتندو و مایکروسافت برای مقابله و مخالفت با تعرفه‌های مطرح شده بیانیه‌ای به دفتر نماینده تجاری آمریکا ارسال کردند. در این نامه گفته شد که تعرفه‌ها به شکل قابل ملاحظه‌ای کسب و کار این شرکت‌ها را تحت تاثیر قرار می‌دهد، اما در این بین مشتریان آمریکایی و کسب و کارهای کوچکتری مثل بازی‌سازها بیشترین ضربه را خواهند خورد. در این نامه هفت صفحه‌ای تخمین زده شد با این کار، حدود ۲۰۰ هزار شغل در معرض خطر قرار می‌گیرند. برای مقابله با جنگ تجاری آمریکا و چین، سازندگان کنسول‌ها شروع به خارج کردن تولیدات خود از چین کرده‌اند. ماه گذشته، شرکت نینتندو تولیدات مدل جدید سوییچ را از چین به جنوب شرقی آسیا منتقل کرد. با این حال هنوز هیچ‌کدام از شرکت‌های سونی و مایکروسافت اقدامی انجام نداده‌اند. روز گذشته خبر دادیم که فروش پلی‌استیشن۴ به ۱۰۰ میلیون دستگاه رسید و این رکورد باعث شد تا پلی‌استیشن۴ سریع‌ترین کنسولی باشد که به این رقم دست پیدا می‌کند. اما از آنجایی که سونی می‌خواهد پلی‌استیشن۵ را در سال ۲۰۲۰ روانه بازار کنند، فروش PS۴ کاهش یافته است. سونی کنسول PS۵ را به عنوان محصولی خاص با قدرت سخت‌افزاری بالا معرفی کرده که همین موضوع می‌تواند دلیل خوبی برای قیمت بسیار بالای آن باشد. اگر تعرفه‌های ترامپ همچنان ادامه یابند، احتمالا قیمت کنسول‌ها بالاتر هم خواهد رفت.\n"
          ]
        }
      ]
    },
    {
      "cell_type": "code",
      "source": [
        ""
      ],
      "metadata": {
        "id": "mcoQM4tJbuVB"
      },
      "id": "mcoQM4tJbuVB",
      "execution_count": 147,
      "outputs": []
    }
  ],
  "metadata": {
    "kernelspec": {
      "display_name": "Python 3 (ipykernel)",
      "language": "python",
      "name": "python3"
    },
    "language_info": {
      "codemirror_mode": {
        "name": "ipython",
        "version": 3
      },
      "file_extension": ".py",
      "mimetype": "text/x-python",
      "name": "python",
      "nbconvert_exporter": "python",
      "pygments_lexer": "ipython3",
      "version": "3.9.7"
    },
    "colab": {
      "name": "CA3-810098043",
      "provenance": [],
      "collapsed_sections": []
    }
  },
  "nbformat": 4,
  "nbformat_minor": 5
}